{
  "cells": [
    {
      "cell_type": "markdown",
      "metadata": {
        "id": "1FPGPUM1Xcso"
      },
      "source": [
        "# SEMANA 05 - Lunes 29 / 04 / 2024\n",
        "# Mg. Flor Elizabeth Cerdán León"
      ]
    },
    {
      "cell_type": "markdown",
      "metadata": {
        "id": "mYwVyWIUXcsr"
      },
      "source": [
        "Temas\n",
        "1. Colecciones de datos\n",
        "2. Estructuras Decisivas y Estructuras Repetitivas\n",
        "3. Funciones\n",
        "4. Clases y Objetos"
      ]
    },
    {
      "cell_type": "markdown",
      "metadata": {
        "id": "wuyYE-7zXcss"
      },
      "source": [
        "3. Funciones"
      ]
    },
    {
      "cell_type": "code",
      "execution_count": null,
      "metadata": {
        "id": "8V-4AkqIXcss"
      },
      "outputs": [],
      "source": [
        "# También conocidos como métodos\n",
        "\n",
        "# Para crear un método utilizamos: def\n",
        "# Tenemos 4 métodos:\n",
        "# - Métodos vacíos\n",
        "# - Métodos que reciben valores\n",
        "# - Métodos que devuelven un valor\n",
        "# - Métodos que reciben y devuelven valores"
      ]
    },
    {
      "cell_type": "markdown",
      "source": [
        "      MÉTODOS VACIOS"
      ],
      "metadata": {
        "id": "EdTA24G9-4rF"
      }
    },
    {
      "cell_type": "code",
      "execution_count": 4,
      "metadata": {
        "id": "CqZmh_rtXcsu"
      },
      "outputs": [],
      "source": [
        "# 3.1 Métodos vacíos\n",
        "# Explicación: No recibe valores (Parámetros)\n",
        "\n",
        "def universidad():\n",
        "      print(\"Bienvenidos a la carrera de Ingeniería\")\n",
        "      print(\"**** Amo la Programación ****\")"
      ]
    },
    {
      "cell_type": "code",
      "source": [
        "# Imprimimos por separado\n",
        "universidad()"
      ],
      "metadata": {
        "colab": {
          "base_uri": "https://localhost:8080/"
        },
        "id": "gGoCWyNKACU8",
        "outputId": "555c526e-8af7-4d99-8657-f296811ace06"
      },
      "execution_count": 6,
      "outputs": [
        {
          "output_type": "stream",
          "name": "stdout",
          "text": [
            "Bienvenidos a la carrera de Ingeniería\n",
            "**** Amo la Programación ****\n"
          ]
        }
      ]
    },
    {
      "cell_type": "markdown",
      "source": [
        "      MÉTODOS QUE RECIBEN VALORES"
      ],
      "metadata": {
        "id": "wWGUWdHPAKyk"
      }
    },
    {
      "cell_type": "code",
      "execution_count": 7,
      "metadata": {
        "id": "o2EyGgR8Xcsw",
        "colab": {
          "base_uri": "https://localhost:8080/"
        },
        "outputId": "5dc1db7a-9faf-46ee-ba09-12c6f7fe745a"
      },
      "outputs": [
        {
          "output_type": "stream",
          "name": "stdout",
          "text": [
            "El factorial de: 8\n",
            "El factorial de 8 es: 40320\n"
          ]
        }
      ],
      "source": [
        "# 3.2 Métodos que reciben valores\n",
        "\n",
        "# Creamos el factorial de cualquier número\n",
        "# Definimos la variable 'factorial'\n",
        "\n",
        "def factorial(numero):\n",
        "    fac = 1\n",
        "    for i in range(1,numero+1):\n",
        "        fac*=i\n",
        "        # fac = fac*i\n",
        "    print(f\"El factorial de {numero} es: {fac}\")\n",
        "\n",
        "# Imprimimos\n",
        "numero = int(input(f\"El factorial de: \"))\n",
        "factorial(numero)"
      ]
    },
    {
      "cell_type": "markdown",
      "source": [
        "      MÉTODOS QUE DEVUELVEN VALORES"
      ],
      "metadata": {
        "id": "3cm9WYOFBDz7"
      }
    },
    {
      "cell_type": "code",
      "execution_count": 8,
      "metadata": {
        "id": "BgjpWOXHXcsx"
      },
      "outputs": [],
      "source": [
        "# 3.3 Métodos que devuelven valores\n",
        "def saludo():\n",
        "    mensaje = \"Bienvenidos a LP3\"\n",
        "    return mensaje"
      ]
    },
    {
      "cell_type": "code",
      "execution_count": 9,
      "metadata": {
        "id": "qO55NntoXcsy",
        "outputId": "7f3c6d0a-6c4c-4e48-cb21-c449c523fbe8",
        "colab": {
          "base_uri": "https://localhost:8080/"
        }
      },
      "outputs": [
        {
          "output_type": "stream",
          "name": "stdout",
          "text": [
            "Bienvenidos a LP3\n"
          ]
        }
      ],
      "source": [
        "print(saludo())"
      ]
    },
    {
      "cell_type": "markdown",
      "source": [
        "      MÉTODOS QUE DEVUELVEN Y RECIBEN VALORES"
      ],
      "metadata": {
        "id": "q3SY7f42BOuD"
      }
    },
    {
      "cell_type": "code",
      "execution_count": 10,
      "metadata": {
        "id": "tx01j1U6Xcsy",
        "colab": {
          "base_uri": "https://localhost:8080/"
        },
        "outputId": "e38df985-bb5b-464d-a640-a2d325422b02"
      },
      "outputs": [
        {
          "output_type": "stream",
          "name": "stdout",
          "text": [
            "Ingrese en número: 7\n",
            "El factorial del número ingresado 7 es 5040\n"
          ]
        }
      ],
      "source": [
        "# 3.4 Métodos que reciben y devuelven valores\n",
        "\n",
        "def factorial2(numero):\n",
        "    fac = 1\n",
        "    for i in range(1,numero+1):\n",
        "        fac*=i\n",
        "        # fac = fac*i\n",
        "    return fac\n",
        "\n",
        "numero = int(input(\"Ingrese en número: \"))\n",
        "print(f\"El factorial del número ingresado {numero} es {factorial2(numero)}\")"
      ]
    },
    {
      "cell_type": "code",
      "execution_count": 11,
      "metadata": {
        "id": "oezkz9cgXcs0"
      },
      "outputs": [],
      "source": [
        "# Otro ejemplo\n",
        "# Calcular el IGV\n",
        "def obtenerigv(importe):\n",
        "    return importe*0.18"
      ]
    },
    {
      "cell_type": "code",
      "execution_count": 16,
      "metadata": {
        "id": "MPbUakLbXcs0",
        "outputId": "81325170-619a-4940-ef4b-eae36522fa31",
        "colab": {
          "base_uri": "https://localhost:8080/"
        }
      },
      "outputs": [
        {
          "output_type": "execute_result",
          "data": {
            "text/plain": [
              "463.5"
            ]
          },
          "metadata": {},
          "execution_count": 16
        }
      ],
      "source": [
        "# Obtener el IGV de '2575'\n",
        "obtenerigv(2575)"
      ]
    },
    {
      "cell_type": "code",
      "execution_count": 18,
      "metadata": {
        "id": "hH8r-rcrXcs1",
        "outputId": "53e7f7cf-8446-449c-dd8b-e03bf06c4cb7",
        "colab": {
          "base_uri": "https://localhost:8080/"
        }
      },
      "outputs": [
        {
          "output_type": "execute_result",
          "data": {
            "text/plain": [
              "4400"
            ]
          },
          "metadata": {},
          "execution_count": 18
        }
      ],
      "source": [
        "# Sacamos el factorial de 7 que es 5040 y a ello le restamos 640 y nos daria 4400\n",
        "factorial2(7)-640"
      ]
    }
  ],
  "metadata": {
    "kernelspec": {
      "display_name": "Python 3",
      "language": "python",
      "name": "python3"
    },
    "language_info": {
      "codemirror_mode": {
        "name": "ipython",
        "version": 3
      },
      "file_extension": ".py",
      "mimetype": "text/x-python",
      "name": "python",
      "nbconvert_exporter": "python",
      "pygments_lexer": "ipython3",
      "version": "3.7.6"
    },
    "colab": {
      "provenance": []
    }
  },
  "nbformat": 4,
  "nbformat_minor": 0
}